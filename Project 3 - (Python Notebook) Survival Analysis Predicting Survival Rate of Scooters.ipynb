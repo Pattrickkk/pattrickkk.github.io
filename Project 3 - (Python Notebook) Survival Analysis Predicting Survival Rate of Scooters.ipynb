{
  "cells": [
    {
      "cell_type": "code",
      "execution_count": null,
      "metadata": {
        "colab": {
          "base_uri": "https://localhost:8080/"
        },
        "id": "X0RJBMhKBOQb",
        "outputId": "60ce7301-b61f-41db-8e7e-382dc6508ff6"
      },
      "outputs": [
        {
          "output_type": "stream",
          "name": "stdout",
          "text": [
            "Looking in indexes: https://pypi.org/simple, https://us-python.pkg.dev/colab-wheels/public/simple/\n",
            "Requirement already satisfied: scikit-survival in /usr/local/lib/python3.7/dist-packages (0.17.2)\n",
            "Requirement already satisfied: ecos in /usr/local/lib/python3.7/dist-packages (from scikit-survival) (2.0.10)\n",
            "Requirement already satisfied: osqp!=0.6.0,!=0.6.1 in /usr/local/lib/python3.7/dist-packages (from scikit-survival) (0.6.2.post0)\n",
            "Requirement already satisfied: pandas>=0.25 in /usr/local/lib/python3.7/dist-packages (from scikit-survival) (1.3.5)\n",
            "Requirement already satisfied: scipy!=1.3.0,>=1.0 in /usr/local/lib/python3.7/dist-packages (from scikit-survival) (1.7.3)\n",
            "Requirement already satisfied: joblib in /usr/local/lib/python3.7/dist-packages (from scikit-survival) (1.2.0)\n",
            "Requirement already satisfied: scikit-learn<1.1,>=1.0.0 in /usr/local/lib/python3.7/dist-packages (from scikit-survival) (1.0.2)\n",
            "Requirement already satisfied: numpy in /usr/local/lib/python3.7/dist-packages (from scikit-survival) (1.21.6)\n",
            "Requirement already satisfied: numexpr in /usr/local/lib/python3.7/dist-packages (from scikit-survival) (2.8.4)\n",
            "Requirement already satisfied: qdldl in /usr/local/lib/python3.7/dist-packages (from osqp!=0.6.0,!=0.6.1->scikit-survival) (0.1.5.post2)\n",
            "Requirement already satisfied: pytz>=2017.3 in /usr/local/lib/python3.7/dist-packages (from pandas>=0.25->scikit-survival) (2022.6)\n",
            "Requirement already satisfied: python-dateutil>=2.7.3 in /usr/local/lib/python3.7/dist-packages (from pandas>=0.25->scikit-survival) (2.8.2)\n",
            "Requirement already satisfied: six>=1.5 in /usr/local/lib/python3.7/dist-packages (from python-dateutil>=2.7.3->pandas>=0.25->scikit-survival) (1.15.0)\n",
            "Requirement already satisfied: threadpoolctl>=2.0.0 in /usr/local/lib/python3.7/dist-packages (from scikit-learn<1.1,>=1.0.0->scikit-survival) (3.1.0)\n"
          ]
        }
      ],
      "source": [
        "!pip install scikit-survival"
      ]
    },
    {
      "cell_type": "code",
      "execution_count": null,
      "metadata": {
        "id": "rdrxhjBWBVym"
      },
      "outputs": [],
      "source": [
        "# import scikit-survival\n",
        "import sksurv"
      ]
    },
    {
      "cell_type": "code",
      "execution_count": null,
      "metadata": {
        "id": "w0hVydBEXzaB"
      },
      "outputs": [],
      "source": [
        "import numpy as np\n",
        "import pandas as pd\n",
        "import random\n",
        "from sklearn.model_selection import train_test_split\n",
        "import matplotlib.pyplot as plt\n",
        "%matplotlib inline\n"
      ]
    },
    {
      "cell_type": "code",
      "execution_count": null,
      "metadata": {
        "id": "QC6fJd9vDV01",
        "colab": {
          "base_uri": "https://localhost:8080/",
          "height": 250
        },
        "outputId": "94320327-65cf-40f0-a7a9-f49e0c8336c8"
      },
      "outputs": [
        {
          "output_type": "execute_result",
          "data": {
            "text/plain": [
              "   id    tte  need_repair  usage_length_days manufactor  avg_complains  \\\n",
              "0   1   57.0         True          58.766838          C           21.3   \n",
              "1   2  736.0        False          56.447815          C            4.6   \n",
              "2   3  145.0         True          70.074472          B            1.8   \n",
              "3   4  275.0         True          54.742087          C            5.3   \n",
              "4   6  357.0         True          66.260541          A            0.7   \n",
              "\n",
              "   ride_miles  \n",
              "0         6.2  \n",
              "1        88.0  \n",
              "2        88.4  \n",
              "3       131.8  \n",
              "4        60.0  "
            ],
            "text/html": [
              "\n",
              "  <div id=\"df-0cd2b9e6-1b7d-4f6e-9872-94ed655d2c33\">\n",
              "    <div class=\"colab-df-container\">\n",
              "      <div>\n",
              "<style scoped>\n",
              "    .dataframe tbody tr th:only-of-type {\n",
              "        vertical-align: middle;\n",
              "    }\n",
              "\n",
              "    .dataframe tbody tr th {\n",
              "        vertical-align: top;\n",
              "    }\n",
              "\n",
              "    .dataframe thead th {\n",
              "        text-align: right;\n",
              "    }\n",
              "</style>\n",
              "<table border=\"1\" class=\"dataframe\">\n",
              "  <thead>\n",
              "    <tr style=\"text-align: right;\">\n",
              "      <th></th>\n",
              "      <th>id</th>\n",
              "      <th>tte</th>\n",
              "      <th>need_repair</th>\n",
              "      <th>usage_length_days</th>\n",
              "      <th>manufactor</th>\n",
              "      <th>avg_complains</th>\n",
              "      <th>ride_miles</th>\n",
              "    </tr>\n",
              "  </thead>\n",
              "  <tbody>\n",
              "    <tr>\n",
              "      <th>0</th>\n",
              "      <td>1</td>\n",
              "      <td>57.0</td>\n",
              "      <td>True</td>\n",
              "      <td>58.766838</td>\n",
              "      <td>C</td>\n",
              "      <td>21.3</td>\n",
              "      <td>6.2</td>\n",
              "    </tr>\n",
              "    <tr>\n",
              "      <th>1</th>\n",
              "      <td>2</td>\n",
              "      <td>736.0</td>\n",
              "      <td>False</td>\n",
              "      <td>56.447815</td>\n",
              "      <td>C</td>\n",
              "      <td>4.6</td>\n",
              "      <td>88.0</td>\n",
              "    </tr>\n",
              "    <tr>\n",
              "      <th>2</th>\n",
              "      <td>3</td>\n",
              "      <td>145.0</td>\n",
              "      <td>True</td>\n",
              "      <td>70.074472</td>\n",
              "      <td>B</td>\n",
              "      <td>1.8</td>\n",
              "      <td>88.4</td>\n",
              "    </tr>\n",
              "    <tr>\n",
              "      <th>3</th>\n",
              "      <td>4</td>\n",
              "      <td>275.0</td>\n",
              "      <td>True</td>\n",
              "      <td>54.742087</td>\n",
              "      <td>C</td>\n",
              "      <td>5.3</td>\n",
              "      <td>131.8</td>\n",
              "    </tr>\n",
              "    <tr>\n",
              "      <th>4</th>\n",
              "      <td>6</td>\n",
              "      <td>357.0</td>\n",
              "      <td>True</td>\n",
              "      <td>66.260541</td>\n",
              "      <td>A</td>\n",
              "      <td>0.7</td>\n",
              "      <td>60.0</td>\n",
              "    </tr>\n",
              "  </tbody>\n",
              "</table>\n",
              "</div>\n",
              "      <button class=\"colab-df-convert\" onclick=\"convertToInteractive('df-0cd2b9e6-1b7d-4f6e-9872-94ed655d2c33')\"\n",
              "              title=\"Convert this dataframe to an interactive table.\"\n",
              "              style=\"display:none;\">\n",
              "        \n",
              "  <svg xmlns=\"http://www.w3.org/2000/svg\" height=\"24px\"viewBox=\"0 0 24 24\"\n",
              "       width=\"24px\">\n",
              "    <path d=\"M0 0h24v24H0V0z\" fill=\"none\"/>\n",
              "    <path d=\"M18.56 5.44l.94 2.06.94-2.06 2.06-.94-2.06-.94-.94-2.06-.94 2.06-2.06.94zm-11 1L8.5 8.5l.94-2.06 2.06-.94-2.06-.94L8.5 2.5l-.94 2.06-2.06.94zm10 10l.94 2.06.94-2.06 2.06-.94-2.06-.94-.94-2.06-.94 2.06-2.06.94z\"/><path d=\"M17.41 7.96l-1.37-1.37c-.4-.4-.92-.59-1.43-.59-.52 0-1.04.2-1.43.59L10.3 9.45l-7.72 7.72c-.78.78-.78 2.05 0 2.83L4 21.41c.39.39.9.59 1.41.59.51 0 1.02-.2 1.41-.59l7.78-7.78 2.81-2.81c.8-.78.8-2.07 0-2.86zM5.41 20L4 18.59l7.72-7.72 1.47 1.35L5.41 20z\"/>\n",
              "  </svg>\n",
              "      </button>\n",
              "      \n",
              "  <style>\n",
              "    .colab-df-container {\n",
              "      display:flex;\n",
              "      flex-wrap:wrap;\n",
              "      gap: 12px;\n",
              "    }\n",
              "\n",
              "    .colab-df-convert {\n",
              "      background-color: #E8F0FE;\n",
              "      border: none;\n",
              "      border-radius: 50%;\n",
              "      cursor: pointer;\n",
              "      display: none;\n",
              "      fill: #1967D2;\n",
              "      height: 32px;\n",
              "      padding: 0 0 0 0;\n",
              "      width: 32px;\n",
              "    }\n",
              "\n",
              "    .colab-df-convert:hover {\n",
              "      background-color: #E2EBFA;\n",
              "      box-shadow: 0px 1px 2px rgba(60, 64, 67, 0.3), 0px 1px 3px 1px rgba(60, 64, 67, 0.15);\n",
              "      fill: #174EA6;\n",
              "    }\n",
              "\n",
              "    [theme=dark] .colab-df-convert {\n",
              "      background-color: #3B4455;\n",
              "      fill: #D2E3FC;\n",
              "    }\n",
              "\n",
              "    [theme=dark] .colab-df-convert:hover {\n",
              "      background-color: #434B5C;\n",
              "      box-shadow: 0px 1px 3px 1px rgba(0, 0, 0, 0.15);\n",
              "      filter: drop-shadow(0px 1px 2px rgba(0, 0, 0, 0.3));\n",
              "      fill: #FFFFFF;\n",
              "    }\n",
              "  </style>\n",
              "\n",
              "      <script>\n",
              "        const buttonEl =\n",
              "          document.querySelector('#df-0cd2b9e6-1b7d-4f6e-9872-94ed655d2c33 button.colab-df-convert');\n",
              "        buttonEl.style.display =\n",
              "          google.colab.kernel.accessAllowed ? 'block' : 'none';\n",
              "\n",
              "        async function convertToInteractive(key) {\n",
              "          const element = document.querySelector('#df-0cd2b9e6-1b7d-4f6e-9872-94ed655d2c33');\n",
              "          const dataTable =\n",
              "            await google.colab.kernel.invokeFunction('convertToInteractive',\n",
              "                                                     [key], {});\n",
              "          if (!dataTable) return;\n",
              "\n",
              "          const docLinkHtml = 'Like what you see? Visit the ' +\n",
              "            '<a target=\"_blank\" href=https://colab.research.google.com/notebooks/data_table.ipynb>data table notebook</a>'\n",
              "            + ' to learn more about interactive tables.';\n",
              "          element.innerHTML = '';\n",
              "          dataTable['output_type'] = 'display_data';\n",
              "          await google.colab.output.renderOutput(dataTable, element);\n",
              "          const docLink = document.createElement('div');\n",
              "          docLink.innerHTML = docLinkHtml;\n",
              "          element.appendChild(docLink);\n",
              "        }\n",
              "      </script>\n",
              "    </div>\n",
              "  </div>\n",
              "  "
            ]
          },
          "metadata": {},
          "execution_count": 202
        }
      ],
      "source": [
        "#Import dataset\n",
        "\n",
        "scooter_data = pd.read_csv(\n",
        "    'cleaned_better_scooter.csv')\n",
        "scooter_data.head()"
      ]
    },
    {
      "cell_type": "code",
      "source": [
        "scooter_data.shape"
      ],
      "metadata": {
        "colab": {
          "base_uri": "https://localhost:8080/"
        },
        "id": "WWt6lHug7ZEL",
        "outputId": "f2742e28-9170-4aec-daa7-5fb009e32adc"
      },
      "execution_count": null,
      "outputs": [
        {
          "output_type": "execute_result",
          "data": {
            "text/plain": [
              "(283, 7)"
            ]
          },
          "metadata": {},
          "execution_count": 203
        }
      ]
    },
    {
      "cell_type": "code",
      "source": [
        "scooter_data.info()"
      ],
      "metadata": {
        "colab": {
          "base_uri": "https://localhost:8080/"
        },
        "id": "VMMuEOCE8TTY",
        "outputId": "2b343347-0e61-45f5-ea7e-c703b04018b5"
      },
      "execution_count": null,
      "outputs": [
        {
          "output_type": "stream",
          "name": "stdout",
          "text": [
            "<class 'pandas.core.frame.DataFrame'>\n",
            "RangeIndex: 283 entries, 0 to 282\n",
            "Data columns (total 7 columns):\n",
            " #   Column             Non-Null Count  Dtype  \n",
            "---  ------             --------------  -----  \n",
            " 0   id                 283 non-null    int64  \n",
            " 1   tte                283 non-null    float64\n",
            " 2   need_repair        283 non-null    bool   \n",
            " 3   usage_length_days  283 non-null    float64\n",
            " 4   manufactor         283 non-null    object \n",
            " 5   avg_complains      283 non-null    float64\n",
            " 6   ride_miles         283 non-null    float64\n",
            "dtypes: bool(1), float64(4), int64(1), object(1)\n",
            "memory usage: 13.7+ KB\n"
          ]
        }
      ]
    },
    {
      "cell_type": "code",
      "source": [
        "scooter_data.describe().round()"
      ],
      "metadata": {
        "colab": {
          "base_uri": "https://localhost:8080/",
          "height": 300
        },
        "id": "e5drJRpf8W4x",
        "outputId": "2a2d2228-26ce-4df8-e87c-b38d61cf473a"
      },
      "execution_count": null,
      "outputs": [
        {
          "output_type": "execute_result",
          "data": {
            "text/plain": [
              "          id    tte  usage_length_days  avg_complains  ride_miles\n",
              "count  283.0  283.0              283.0          283.0       283.0\n",
              "mean   150.0  343.0               51.0            7.0       127.0\n",
              "std     89.0  190.0               10.0            8.0        93.0\n",
              "min      1.0    6.0               29.0            0.0         6.0\n",
              "25%     72.0  198.0               44.0            1.0        71.0\n",
              "50%    148.0  342.0               51.0            2.0       113.0\n",
              "75%    222.0  473.0               58.0           11.0       160.0\n",
              "max    312.0  744.0               78.0           41.0      1205.0"
            ],
            "text/html": [
              "\n",
              "  <div id=\"df-3e0c73a2-c68d-4959-a093-8b574d662ba8\">\n",
              "    <div class=\"colab-df-container\">\n",
              "      <div>\n",
              "<style scoped>\n",
              "    .dataframe tbody tr th:only-of-type {\n",
              "        vertical-align: middle;\n",
              "    }\n",
              "\n",
              "    .dataframe tbody tr th {\n",
              "        vertical-align: top;\n",
              "    }\n",
              "\n",
              "    .dataframe thead th {\n",
              "        text-align: right;\n",
              "    }\n",
              "</style>\n",
              "<table border=\"1\" class=\"dataframe\">\n",
              "  <thead>\n",
              "    <tr style=\"text-align: right;\">\n",
              "      <th></th>\n",
              "      <th>id</th>\n",
              "      <th>tte</th>\n",
              "      <th>usage_length_days</th>\n",
              "      <th>avg_complains</th>\n",
              "      <th>ride_miles</th>\n",
              "    </tr>\n",
              "  </thead>\n",
              "  <tbody>\n",
              "    <tr>\n",
              "      <th>count</th>\n",
              "      <td>283.0</td>\n",
              "      <td>283.0</td>\n",
              "      <td>283.0</td>\n",
              "      <td>283.0</td>\n",
              "      <td>283.0</td>\n",
              "    </tr>\n",
              "    <tr>\n",
              "      <th>mean</th>\n",
              "      <td>150.0</td>\n",
              "      <td>343.0</td>\n",
              "      <td>51.0</td>\n",
              "      <td>7.0</td>\n",
              "      <td>127.0</td>\n",
              "    </tr>\n",
              "    <tr>\n",
              "      <th>std</th>\n",
              "      <td>89.0</td>\n",
              "      <td>190.0</td>\n",
              "      <td>10.0</td>\n",
              "      <td>8.0</td>\n",
              "      <td>93.0</td>\n",
              "    </tr>\n",
              "    <tr>\n",
              "      <th>min</th>\n",
              "      <td>1.0</td>\n",
              "      <td>6.0</td>\n",
              "      <td>29.0</td>\n",
              "      <td>0.0</td>\n",
              "      <td>6.0</td>\n",
              "    </tr>\n",
              "    <tr>\n",
              "      <th>25%</th>\n",
              "      <td>72.0</td>\n",
              "      <td>198.0</td>\n",
              "      <td>44.0</td>\n",
              "      <td>1.0</td>\n",
              "      <td>71.0</td>\n",
              "    </tr>\n",
              "    <tr>\n",
              "      <th>50%</th>\n",
              "      <td>148.0</td>\n",
              "      <td>342.0</td>\n",
              "      <td>51.0</td>\n",
              "      <td>2.0</td>\n",
              "      <td>113.0</td>\n",
              "    </tr>\n",
              "    <tr>\n",
              "      <th>75%</th>\n",
              "      <td>222.0</td>\n",
              "      <td>473.0</td>\n",
              "      <td>58.0</td>\n",
              "      <td>11.0</td>\n",
              "      <td>160.0</td>\n",
              "    </tr>\n",
              "    <tr>\n",
              "      <th>max</th>\n",
              "      <td>312.0</td>\n",
              "      <td>744.0</td>\n",
              "      <td>78.0</td>\n",
              "      <td>41.0</td>\n",
              "      <td>1205.0</td>\n",
              "    </tr>\n",
              "  </tbody>\n",
              "</table>\n",
              "</div>\n",
              "      <button class=\"colab-df-convert\" onclick=\"convertToInteractive('df-3e0c73a2-c68d-4959-a093-8b574d662ba8')\"\n",
              "              title=\"Convert this dataframe to an interactive table.\"\n",
              "              style=\"display:none;\">\n",
              "        \n",
              "  <svg xmlns=\"http://www.w3.org/2000/svg\" height=\"24px\"viewBox=\"0 0 24 24\"\n",
              "       width=\"24px\">\n",
              "    <path d=\"M0 0h24v24H0V0z\" fill=\"none\"/>\n",
              "    <path d=\"M18.56 5.44l.94 2.06.94-2.06 2.06-.94-2.06-.94-.94-2.06-.94 2.06-2.06.94zm-11 1L8.5 8.5l.94-2.06 2.06-.94-2.06-.94L8.5 2.5l-.94 2.06-2.06.94zm10 10l.94 2.06.94-2.06 2.06-.94-2.06-.94-.94-2.06-.94 2.06-2.06.94z\"/><path d=\"M17.41 7.96l-1.37-1.37c-.4-.4-.92-.59-1.43-.59-.52 0-1.04.2-1.43.59L10.3 9.45l-7.72 7.72c-.78.78-.78 2.05 0 2.83L4 21.41c.39.39.9.59 1.41.59.51 0 1.02-.2 1.41-.59l7.78-7.78 2.81-2.81c.8-.78.8-2.07 0-2.86zM5.41 20L4 18.59l7.72-7.72 1.47 1.35L5.41 20z\"/>\n",
              "  </svg>\n",
              "      </button>\n",
              "      \n",
              "  <style>\n",
              "    .colab-df-container {\n",
              "      display:flex;\n",
              "      flex-wrap:wrap;\n",
              "      gap: 12px;\n",
              "    }\n",
              "\n",
              "    .colab-df-convert {\n",
              "      background-color: #E8F0FE;\n",
              "      border: none;\n",
              "      border-radius: 50%;\n",
              "      cursor: pointer;\n",
              "      display: none;\n",
              "      fill: #1967D2;\n",
              "      height: 32px;\n",
              "      padding: 0 0 0 0;\n",
              "      width: 32px;\n",
              "    }\n",
              "\n",
              "    .colab-df-convert:hover {\n",
              "      background-color: #E2EBFA;\n",
              "      box-shadow: 0px 1px 2px rgba(60, 64, 67, 0.3), 0px 1px 3px 1px rgba(60, 64, 67, 0.15);\n",
              "      fill: #174EA6;\n",
              "    }\n",
              "\n",
              "    [theme=dark] .colab-df-convert {\n",
              "      background-color: #3B4455;\n",
              "      fill: #D2E3FC;\n",
              "    }\n",
              "\n",
              "    [theme=dark] .colab-df-convert:hover {\n",
              "      background-color: #434B5C;\n",
              "      box-shadow: 0px 1px 3px 1px rgba(0, 0, 0, 0.15);\n",
              "      filter: drop-shadow(0px 1px 2px rgba(0, 0, 0, 0.3));\n",
              "      fill: #FFFFFF;\n",
              "    }\n",
              "  </style>\n",
              "\n",
              "      <script>\n",
              "        const buttonEl =\n",
              "          document.querySelector('#df-3e0c73a2-c68d-4959-a093-8b574d662ba8 button.colab-df-convert');\n",
              "        buttonEl.style.display =\n",
              "          google.colab.kernel.accessAllowed ? 'block' : 'none';\n",
              "\n",
              "        async function convertToInteractive(key) {\n",
              "          const element = document.querySelector('#df-3e0c73a2-c68d-4959-a093-8b574d662ba8');\n",
              "          const dataTable =\n",
              "            await google.colab.kernel.invokeFunction('convertToInteractive',\n",
              "                                                     [key], {});\n",
              "          if (!dataTable) return;\n",
              "\n",
              "          const docLinkHtml = 'Like what you see? Visit the ' +\n",
              "            '<a target=\"_blank\" href=https://colab.research.google.com/notebooks/data_table.ipynb>data table notebook</a>'\n",
              "            + ' to learn more about interactive tables.';\n",
              "          element.innerHTML = '';\n",
              "          dataTable['output_type'] = 'display_data';\n",
              "          await google.colab.output.renderOutput(dataTable, element);\n",
              "          const docLink = document.createElement('div');\n",
              "          docLink.innerHTML = docLinkHtml;\n",
              "          element.appendChild(docLink);\n",
              "        }\n",
              "      </script>\n",
              "    </div>\n",
              "  </div>\n",
              "  "
            ]
          },
          "metadata": {},
          "execution_count": 205
        }
      ]
    },
    {
      "cell_type": "code",
      "source": [
        "scooter_data.corr().style"
      ],
      "metadata": {
        "colab": {
          "base_uri": "https://localhost:8080/",
          "height": 258
        },
        "id": "Hh_GuX7a8iBQ",
        "outputId": "18bcdf1d-bb72-4236-ad23-5eee74e10be2"
      },
      "execution_count": null,
      "outputs": [
        {
          "output_type": "execute_result",
          "data": {
            "text/plain": [
              "<pandas.io.formats.style.Styler at 0x7f43d1bfbe10>"
            ],
            "text/html": [
              "<style type=\"text/css\">\n",
              "</style>\n",
              "<table id=\"T_e837b_\" class=\"dataframe\">\n",
              "  <thead>\n",
              "    <tr>\n",
              "      <th class=\"blank level0\" >&nbsp;</th>\n",
              "      <th class=\"col_heading level0 col0\" >id</th>\n",
              "      <th class=\"col_heading level0 col1\" >tte</th>\n",
              "      <th class=\"col_heading level0 col2\" >need_repair</th>\n",
              "      <th class=\"col_heading level0 col3\" >usage_length_days</th>\n",
              "      <th class=\"col_heading level0 col4\" >avg_complains</th>\n",
              "      <th class=\"col_heading level0 col5\" >ride_miles</th>\n",
              "    </tr>\n",
              "  </thead>\n",
              "  <tbody>\n",
              "    <tr>\n",
              "      <th id=\"T_e837b_level0_row0\" class=\"row_heading level0 row0\" >id</th>\n",
              "      <td id=\"T_e837b_row0_col0\" class=\"data row0 col0\" >1.000000</td>\n",
              "      <td id=\"T_e837b_row0_col1\" class=\"data row0 col1\" >-0.224873</td>\n",
              "      <td id=\"T_e837b_row0_col2\" class=\"data row0 col2\" >-0.370867</td>\n",
              "      <td id=\"T_e837b_row0_col3\" class=\"data row0 col3\" >-0.022566</td>\n",
              "      <td id=\"T_e837b_row0_col4\" class=\"data row0 col4\" >-0.233024</td>\n",
              "      <td id=\"T_e837b_row0_col5\" class=\"data row0 col5\" >-0.131589</td>\n",
              "    </tr>\n",
              "    <tr>\n",
              "      <th id=\"T_e837b_level0_row1\" class=\"row_heading level0 row1\" >tte</th>\n",
              "      <td id=\"T_e837b_row1_col0\" class=\"data row1 col0\" >-0.224873</td>\n",
              "      <td id=\"T_e837b_row1_col1\" class=\"data row1 col1\" >1.000000</td>\n",
              "      <td id=\"T_e837b_row1_col2\" class=\"data row1 col2\" >-0.584574</td>\n",
              "      <td id=\"T_e837b_row1_col3\" class=\"data row1 col3\" >-0.215777</td>\n",
              "      <td id=\"T_e837b_row1_col4\" class=\"data row1 col4\" >-0.389063</td>\n",
              "      <td id=\"T_e837b_row1_col5\" class=\"data row1 col5\" >-0.213347</td>\n",
              "    </tr>\n",
              "    <tr>\n",
              "      <th id=\"T_e837b_level0_row2\" class=\"row_heading level0 row2\" >need_repair</th>\n",
              "      <td id=\"T_e837b_row2_col0\" class=\"data row2 col0\" >-0.370867</td>\n",
              "      <td id=\"T_e837b_row2_col1\" class=\"data row2 col1\" >-0.584574</td>\n",
              "      <td id=\"T_e837b_row2_col2\" class=\"data row2 col2\" >1.000000</td>\n",
              "      <td id=\"T_e837b_row2_col3\" class=\"data row2 col3\" >0.253700</td>\n",
              "      <td id=\"T_e837b_row2_col4\" class=\"data row2 col4\" >0.577017</td>\n",
              "      <td id=\"T_e837b_row2_col5\" class=\"data row2 col5\" >0.342298</td>\n",
              "    </tr>\n",
              "    <tr>\n",
              "      <th id=\"T_e837b_level0_row3\" class=\"row_heading level0 row3\" >usage_length_days</th>\n",
              "      <td id=\"T_e837b_row3_col0\" class=\"data row3 col0\" >-0.022566</td>\n",
              "      <td id=\"T_e837b_row3_col1\" class=\"data row3 col1\" >-0.215777</td>\n",
              "      <td id=\"T_e837b_row3_col2\" class=\"data row3 col2\" >0.253700</td>\n",
              "      <td id=\"T_e837b_row3_col3\" class=\"data row3 col3\" >1.000000</td>\n",
              "      <td id=\"T_e837b_row3_col4\" class=\"data row3 col4\" >-0.033051</td>\n",
              "      <td id=\"T_e837b_row3_col5\" class=\"data row3 col5\" >-0.117033</td>\n",
              "    </tr>\n",
              "    <tr>\n",
              "      <th id=\"T_e837b_level0_row4\" class=\"row_heading level0 row4\" >avg_complains</th>\n",
              "      <td id=\"T_e837b_row4_col0\" class=\"data row4 col0\" >-0.233024</td>\n",
              "      <td id=\"T_e837b_row4_col1\" class=\"data row4 col1\" >-0.389063</td>\n",
              "      <td id=\"T_e837b_row4_col2\" class=\"data row4 col2\" >0.577017</td>\n",
              "      <td id=\"T_e837b_row4_col3\" class=\"data row4 col3\" >-0.033051</td>\n",
              "      <td id=\"T_e837b_row4_col4\" class=\"data row4 col4\" >1.000000</td>\n",
              "      <td id=\"T_e837b_row4_col5\" class=\"data row4 col5\" >0.448281</td>\n",
              "    </tr>\n",
              "    <tr>\n",
              "      <th id=\"T_e837b_level0_row5\" class=\"row_heading level0 row5\" >ride_miles</th>\n",
              "      <td id=\"T_e837b_row5_col0\" class=\"data row5 col0\" >-0.131589</td>\n",
              "      <td id=\"T_e837b_row5_col1\" class=\"data row5 col1\" >-0.213347</td>\n",
              "      <td id=\"T_e837b_row5_col2\" class=\"data row5 col2\" >0.342298</td>\n",
              "      <td id=\"T_e837b_row5_col3\" class=\"data row5 col3\" >-0.117033</td>\n",
              "      <td id=\"T_e837b_row5_col4\" class=\"data row5 col4\" >0.448281</td>\n",
              "      <td id=\"T_e837b_row5_col5\" class=\"data row5 col5\" >1.000000</td>\n",
              "    </tr>\n",
              "  </tbody>\n",
              "</table>\n"
            ]
          },
          "metadata": {},
          "execution_count": 206
        }
      ]
    },
    {
      "cell_type": "code",
      "source": [
        "#DESCRIPTIVE ANALYTICS\n",
        "\n",
        "#First we draw a correlation heatmap of all variables\n",
        "\n",
        "import seaborn as sns\n",
        "\n",
        "scooter_data.drop('id', axis = 1, inplace = True)\n",
        "correlation = scooter_data.corr().round(2)\n",
        "plt.figure(figsize = (14,7))\n",
        "sns.heatmap(correlation, annot = True, cmap = 'Pastel1')"
      ],
      "metadata": {
        "colab": {
          "base_uri": "https://localhost:8080/",
          "height": 394
        },
        "id": "7DIfyUsZ8j4h",
        "outputId": "440568f4-ce50-44b4-d370-c85b92e6da67"
      },
      "execution_count": null,
      "outputs": [
        {
          "output_type": "execute_result",
          "data": {
            "text/plain": [
              "<matplotlib.axes._subplots.AxesSubplot at 0x7f43d172d510>"
            ]
          },
          "metadata": {},
          "execution_count": 207
        },
        {
          "output_type": "display_data",
          "data": {
            "text/plain": [
              "<Figure size 1008x504 with 2 Axes>"
            ],
            "image/png": "[encoded data removed]"
          },
          "metadata": {
            "needs_background": "light"
          }
        }
      ]
    },
    {
      "cell_type": "code",
      "source": [
        "#Exploratory Data Analytics and Visualizations\n",
        "\n",
        "from matplotlib import gridspec\n",
        "import matplotlib.ticker as mtick\n",
        "\n",
        "# plot need_repair True and False\n",
        "keys, counts = np.unique(scooter_data.need_repair, return_counts=True)\n",
        "counts_norm = counts/counts.sum()\n",
        "\n",
        "fig = plt.figure(figsize=(8, 5))\n",
        "gs = gridspec.GridSpec(1, 2, width_ratios=[3,1])\n",
        "\n",
        "#Absolute values\n",
        "ax0 = plt.subplot(gs[0])\n",
        "ax0 = plt.bar(['True', 'False'], counts)\n",
        "ax0 = plt.title('Need Repair:\\n Absolute distribution')\n",
        "ax0 = plt.ylabel('frequency')\n",
        "ax0 = plt.text(['False'], counts[0]/2, counts[0])\n",
        "ax0 = plt.text(['True'], counts[1]/2, counts[1])\n",
        "\n",
        "#Normalized values\n",
        "ax1 = plt.subplot(gs[1])\n",
        "ax1 = plt.bar(['Need_repair'], [counts_norm[0]], label='False')\n",
        "ax1 = plt.bar(['Need_repair'], [counts_norm[1]], bottom=counts_norm[0], label='True',color=['c','m'])\n",
        "ax1 = plt.legend(bbox_to_anchor=(1, 1))\n",
        "ax1 = plt.title('Relative distribution')\n",
        "ax1 = plt.ylabel('frequency')\n",
        "ax1 = plt.text(['Need_repair'],counts_norm[0]/2, '{}%'.format((counts_norm[0]*100).round(1)))\n",
        "ax1 = plt.text(['Need_repair'],(counts_norm[1]/2)+counts_norm[0], '{}%'.format((counts_norm[1]*100).round(1)))\n",
        "\n",
        "plt.tight_layout()\n",
        "plt.show()"
      ],
      "metadata": {
        "colab": {
          "base_uri": "https://localhost:8080/",
          "height": 369
        },
        "id": "4n822iTU_9fJ",
        "outputId": "646ce2e8-5b6a-4e61-e2cb-32578cbcddbf"
      },
      "execution_count": null,
      "outputs": [
        {
          "output_type": "display_data",
          "data": {
            "text/plain": [
              "<Figure size 576x360 with 2 Axes>"
            ],
            "image/png": "[encoded data removed]"
          },
          "metadata": {
            "needs_background": "light"
          }
        }
      ]
    },
    {
      "cell_type": "code",
      "source": [
        "#Need_repair by manufacturers\n",
        "fig = plt.figure(figsize=(12, 5))\n",
        "\n",
        "#Absolute distribution\n",
        "plt.subplot(1, 2, 1)\n",
        "ax1 = scooter_data.groupby(['manufactor', 'need_repair'])['need_repair'].count().unstack().plot.bar(rot=45, ax=plt.gca(), width=0.7, color=['c','m'])\n",
        "plt.title('Need_repair by manufacturer:\\n Absolute distribution')\n",
        "\n",
        "#plot bar labels\n",
        "for p in ax1.patches:\n",
        "    ax1.annotate(str(p.get_height()), (p.get_x() + 0.1, p.get_height() /2))\n",
        "\n",
        "#Relative distribution\n",
        "plt.subplot(1, 2, 2)\n",
        "ax2 = scooter_data.groupby(['manufactor', 'need_repair'])['need_repair'].size().groupby(level=0).apply(\n",
        "    lambda x: 100 * x / x.sum()).unstack().plot(kind='bar',stacked=True, rot=45, ax=plt.gca(),color=['c','m'])\n",
        "plt.gca().yaxis.set_major_formatter(mtick.PercentFormatter())\n",
        "plt.legend(bbox_to_anchor=(1, 1))\n",
        "plt.title('Need_repair by manufacturer:\\n Relative distribution')\n",
        "\n",
        "#plot bar labels\n",
        "for p, q in zip(ax2.patches[0:3], ax2.patches[3:6]):\n",
        "    ax2.annotate(str(round(p.get_height(),1))+'%', (p.get_x()+0.2, p.get_height()/2))\n",
        "    ax2.annotate(str(round(q.get_height(),1))+'%', (q.get_x()+0.2, q.get_height()/2+p.get_height()))\n",
        "\n",
        "plt.tight_layout()\n",
        "plt.show()"
      ],
      "metadata": {
        "colab": {
          "base_uri": "https://localhost:8080/",
          "height": 312
        },
        "id": "7jgg3uApBEmQ",
        "outputId": "f13e9479-e1de-4baf-b5f9-5f02d29a178b"
      },
      "execution_count": null,
      "outputs": [
        {
          "output_type": "display_data",
          "data": {
            "text/plain": [
              "<Figure size 864x360 with 2 Axes>"
            ],
            "image/png": "[encoded data removed]"
          },
          "metadata": {
            "needs_background": "light"
          }
        }
      ]
    },
    {
      "cell_type": "code",
      "source": [
        "#Need_repair by avg_complains\n",
        "ax = scooter_data['avg_complains'].loc[scooter_data['need_repair'] == False].plot.hist(bins=15, density = True, alpha=0.8, label='No need repair', figsize = (10,5),color='c' )\n",
        "ax = scooter_data['avg_complains'].loc[scooter_data['need_repair'] == True].plot.hist(bins=15, density = True, alpha=0.8, label='Need repair', figsize = (10,5),color='m')\n",
        "ax.set_xlabel('avg_complains')\n",
        "ax.set_title('Relative avg_complains distribution by need_repair')\n",
        "ax.legend();"
      ],
      "metadata": {
        "colab": {
          "base_uri": "https://localhost:8080/",
          "height": 351
        },
        "id": "U78q3GX8DSSx",
        "outputId": "5ff42d68-8e99-4b34-f041-98801e6a659c"
      },
      "execution_count": null,
      "outputs": [
        {
          "output_type": "display_data",
          "data": {
            "text/plain": [
              "<Figure size 720x360 with 1 Axes>"
            ],
            "image/png": "[encoded data removed]"
          },
          "metadata": {
            "needs_background": "light"
          }
        }
      ]
    },
    {
      "cell_type": "code",
      "source": [
        "#Need_repair by ride_miles\n",
        "ax = scooter_data['ride_miles'].loc[scooter_data['need_repair'] == False].plot.hist(bins=15, density = True, alpha=0.8, label='No need repair', figsize = (10,5),color='c' )\n",
        "ax = scooter_data['ride_miles'].loc[scooter_data['need_repair'] == True].plot.hist(bins=15, density = True, alpha=0.8, label='Need repair', figsize = (10,5),color='m')\n",
        "ax.set_xlabel('ride_miles')\n",
        "ax.set_title('Relative ride_miles distribution by need_repair')\n",
        "ax.legend();"
      ],
      "metadata": {
        "colab": {
          "base_uri": "https://localhost:8080/",
          "height": 351
        },
        "id": "k-8BX6gsDdoG",
        "outputId": "3fe930ef-0321-4369-e33a-5ee41926dd86"
      },
      "execution_count": null,
      "outputs": [
        {
          "output_type": "display_data",
          "data": {
            "text/plain": [
              "<Figure size 720x360 with 1 Axes>"
            ],
            "image/png": "[encoded data removed]"
          },
          "metadata": {
            "needs_background": "light"
          }
        }
      ]
    },
    {
      "cell_type": "code",
      "source": [
        "from sksurv.datasets import get_x_y\n",
        "from sksurv.util import Surv\n",
        "\n",
        "surv_features, surv_labels_df = get_x_y(scooter_data, ['need_repair','tte'],survival = False)\n",
        "surv_labels = Surv.from_dataframe('need_repair','tte',surv_labels_df)\n",
        "print('\\n======== features for survival analysis ========\\n', surv_features[:10])\n",
        "print('\\n======== labels for survival analysis ========\\n',surv_labels[:10])"
      ],
      "metadata": {
        "colab": {
          "base_uri": "https://localhost:8080/"
        },
        "id": "xcU3RmCpHnyo",
        "outputId": "86d2fcef-f341-442a-898f-eac5be0ea6a7"
      },
      "execution_count": null,
      "outputs": [
        {
          "output_type": "stream",
          "name": "stdout",
          "text": [
            "\n",
            "======== features for survival analysis ========\n",
            "    usage_length_days manufactor  avg_complains  ride_miles\n",
            "0          58.766838          C           21.3         6.2\n",
            "1          56.447815          C            4.6        88.0\n",
            "2          70.074472          B            1.8        88.4\n",
            "3          54.742087          C            5.3       131.8\n",
            "4          66.260541          A            0.7        60.0\n",
            "5          55.536086          A            1.4        54.0\n",
            "6          53.058263          B            5.4       120.9\n",
            "7          42.509035          C           14.8       221.7\n",
            "8          70.561822          C           12.6       147.3\n",
            "9          53.715365          C            9.6       121.0\n",
            "\n",
            "======== labels for survival analysis ========\n",
            " [( True,  57.) (False, 736.) ( True, 145.) ( True, 275.) ( True, 357.)\n",
            " (False, 357.) ( True, 352.) ( True, 342.) ( True,   8.) ( True, 536.)]\n"
          ]
        }
      ]
    },
    {
      "cell_type": "code",
      "source": [
        "#Import Kaplan_Meier_Estimator\n",
        "\n",
        "from sksurv.nonparametric import kaplan_meier_estimator\n",
        "\n",
        "time, survival_prob = kaplan_meier_estimator(surv_labels[\"need_repair\"], surv_labels[\"tte\"])\n",
        "plt.step(time, survival_prob, where=\"post\")\n",
        "plt.ylabel(\"Scooter Survival Chance (%)\")\n",
        "plt.xlabel(\"Scooter Duration Time\")"
      ],
      "metadata": {
        "colab": {
          "base_uri": "https://localhost:8080/",
          "height": 297
        },
        "id": "2883ykRr7C3L",
        "outputId": "0061189f-3767-49c2-9581-362d23b808de"
      },
      "execution_count": null,
      "outputs": [
        {
          "output_type": "execute_result",
          "data": {
            "text/plain": [
              "Text(0.5, 0, 'Scooter Duration Time')"
            ]
          },
          "metadata": {},
          "execution_count": 213
        },
        {
          "output_type": "display_data",
          "data": {
            "text/plain": [
              "<Figure size 432x288 with 1 Axes>"
            ],
            "image/png": "[encoded data removed]"
          },
          "metadata": {
            "needs_background": "light"
          }
        }
      ]
    },
    {
      "cell_type": "code",
      "source": [
        "surv_features[\"manufactor\"].value_counts()\n"
      ],
      "metadata": {
        "colab": {
          "base_uri": "https://localhost:8080/"
        },
        "id": "tj0jZo247G_s",
        "outputId": "91de5ea6-dc94-40fb-8cfa-5b1a2269768f"
      },
      "execution_count": null,
      "outputs": [
        {
          "output_type": "execute_result",
          "data": {
            "text/plain": [
              "A    150\n",
              "B     69\n",
              "C     64\n",
              "Name: manufactor, dtype: int64"
            ]
          },
          "metadata": {},
          "execution_count": 214
        }
      ]
    },
    {
      "cell_type": "code",
      "source": [
        "for manufactor_type in ('A', 'B', 'C'):\n",
        "    mask_manufactor = surv_features[\"manufactor\"] == manufactor_type\n",
        "    time_manufactor, survival_prob_manufactor = kaplan_meier_estimator(\n",
        "        surv_labels[\"need_repair\"][mask_manufactor],\n",
        "        surv_labels[\"tte\"][mask_manufactor])\n",
        "\n",
        "    plt.step(time_manufactor, survival_prob_manufactor, where=\"post\",\n",
        "             label=\"Manufactor = %s\" % manufactor_type)\n",
        "\n",
        "plt.ylabel(\"est. probability of survival $\\hat{S}(t)$\")\n",
        "plt.xlabel(\"time $t$\")\n",
        "plt.legend(loc=\"best\")"
      ],
      "metadata": {
        "colab": {
          "base_uri": "https://localhost:8080/",
          "height": 299
        },
        "id": "zk4MIoePJbdi",
        "outputId": "7710d29e-a218-445c-c1c4-ddbe5d17b357"
      },
      "execution_count": null,
      "outputs": [
        {
          "output_type": "execute_result",
          "data": {
            "text/plain": [
              "<matplotlib.legend.Legend at 0x7f43d15939d0>"
            ]
          },
          "metadata": {},
          "execution_count": 215
        },
        {
          "output_type": "display_data",
          "data": {
            "text/plain": [
              "<Figure size 432x288 with 1 Axes>"
            ],
            "image/png": "[encoded data removed]"
          },
          "metadata": {
            "needs_background": "light"
          }
        }
      ]
    },
    {
      "cell_type": "code",
      "source": [
        "from sksurv.compare import compare_survival\n",
        "\n",
        "compare_survival(surv_labels,surv_features.manufactor.values,return_stats=True)"
      ],
      "metadata": {
        "colab": {
          "base_uri": "https://localhost:8080/"
        },
        "id": "hPWyvg_GMxFp",
        "outputId": "149cbcde-18fb-4444-d150-60325f48db91"
      },
      "execution_count": null,
      "outputs": [
        {
          "output_type": "execute_result",
          "data": {
            "text/plain": [
              "(61.06160595176763,\n",
              " 5.503522413332893e-14,\n",
              "        counts  observed   expected  statistic\n",
              " group                                        \n",
              " A         150        43  82.781297 -39.781297\n",
              " B          69        41  32.419593   8.580407\n",
              " C          64        56  24.799110  31.200890,\n",
              " array([[ 33.61122521, -19.07233748, -14.53888773],\n",
              "        [-19.07233748,  24.83097546,  -5.75863798],\n",
              "        [-14.53888773,  -5.75863798,  20.29752571]]))"
            ]
          },
          "metadata": {},
          "execution_count": 216
        }
      ]
    },
    {
      "cell_type": "markdown",
      "source": [
        "The null hypothesis is: \"There is no difference between group A, B, and C in terms of distribution of time until the event occurs.\"\n",
        "</br>\n",
        "</br>\n",
        "Since the p-value = 5.503522413332893e-14 < 0.001, the null hypothesis is rejected. This means the test stated that there are differences between group A, B and C in terms of distribution of time until event."
      ],
      "metadata": {
        "id": "DDiRDhyuSBrZ"
      }
    },
    {
      "cell_type": "markdown",
      "source": [
        "\n",
        "\n",
        "Conduct CoxPHSurvivalAnalysis and random survival forests analysis. Compare the c-index from these two models and report feature importance with one of the models. Interpret your result"
      ],
      "metadata": {
        "id": "4bor6MhcSEAR"
      }
    },
    {
      "cell_type": "code",
      "source": [
        "#Since we alreadry dropped column id in the previous steps, we don't need to do that again.\n",
        "\n",
        "# one hot encode the categorical features\n",
        "cat_features = ['manufactor']\n",
        "surv_features_2 = pd.get_dummies(surv_features,\n",
        "                              drop_first=True,\n",
        "                              columns=cat_features)\n",
        "\n",
        "surv_features_2.head()"
      ],
      "metadata": {
        "colab": {
          "base_uri": "https://localhost:8080/",
          "height": 206
        },
        "id": "_7dYK5oTSM9-",
        "outputId": "46f325be-2c4e-4188-a25a-61bbc09a158d"
      },
      "execution_count": null,
      "outputs": [
        {
          "output_type": "execute_result",
          "data": {
            "text/plain": [
              "   usage_length_days  avg_complains  ride_miles  manufactor_B  manufactor_C\n",
              "0          58.766838           21.3         6.2             0             1\n",
              "1          56.447815            4.6        88.0             0             1\n",
              "2          70.074472            1.8        88.4             1             0\n",
              "3          54.742087            5.3       131.8             0             1\n",
              "4          66.260541            0.7        60.0             0             0"
            ],
            "text/html": [
              "\n",
              "  <div id=\"df-6d475809-86fd-48d1-ac32-908aa5a01a3b\">\n",
              "    <div class=\"colab-df-container\">\n",
              "      <div>\n",
              "<style scoped>\n",
              "    .dataframe tbody tr th:only-of-type {\n",
              "        vertical-align: middle;\n",
              "    }\n",
              "\n",
              "    .dataframe tbody tr th {\n",
              "        vertical-align: top;\n",
              "    }\n",
              "\n",
              "    .dataframe thead th {\n",
              "        text-align: right;\n",
              "    }\n",
              "</style>\n",
              "<table border=\"1\" class=\"dataframe\">\n",
              "  <thead>\n",
              "    <tr style=\"text-align: right;\">\n",
              "      <th></th>\n",
              "      <th>usage_length_days</th>\n",
              "      <th>avg_complains</th>\n",
              "      <th>ride_miles</th>\n",
              "      <th>manufactor_B</th>\n",
              "      <th>manufactor_C</th>\n",
              "    </tr>\n",
              "  </thead>\n",
              "  <tbody>\n",
              "    <tr>\n",
              "      <th>0</th>\n",
              "      <td>58.766838</td>\n",
              "      <td>21.3</td>\n",
              "      <td>6.2</td>\n",
              "      <td>0</td>\n",
              "      <td>1</td>\n",
              "    </tr>\n",
              "    <tr>\n",
              "      <th>1</th>\n",
              "      <td>56.447815</td>\n",
              "      <td>4.6</td>\n",
              "      <td>88.0</td>\n",
              "      <td>0</td>\n",
              "      <td>1</td>\n",
              "    </tr>\n",
              "    <tr>\n",
              "      <th>2</th>\n",
              "      <td>70.074472</td>\n",
              "      <td>1.8</td>\n",
              "      <td>88.4</td>\n",
              "      <td>1</td>\n",
              "      <td>0</td>\n",
              "    </tr>\n",
              "    <tr>\n",
              "      <th>3</th>\n",
              "      <td>54.742087</td>\n",
              "      <td>5.3</td>\n",
              "      <td>131.8</td>\n",
              "      <td>0</td>\n",
              "      <td>1</td>\n",
              "    </tr>\n",
              "    <tr>\n",
              "      <th>4</th>\n",
              "      <td>66.260541</td>\n",
              "      <td>0.7</td>\n",
              "      <td>60.0</td>\n",
              "      <td>0</td>\n",
              "      <td>0</td>\n",
              "    </tr>\n",
              "  </tbody>\n",
              "</table>\n",
              "</div>\n",
              "      <button class=\"colab-df-convert\" onclick=\"convertToInteractive('df-6d475809-86fd-48d1-ac32-908aa5a01a3b')\"\n",
              "              title=\"Convert this dataframe to an interactive table.\"\n",
              "              style=\"display:none;\">\n",
              "        \n",
              "  <svg xmlns=\"http://www.w3.org/2000/svg\" height=\"24px\"viewBox=\"0 0 24 24\"\n",
              "       width=\"24px\">\n",
              "    <path d=\"M0 0h24v24H0V0z\" fill=\"none\"/>\n",
              "    <path d=\"M18.56 5.44l.94 2.06.94-2.06 2.06-.94-2.06-.94-.94-2.06-.94 2.06-2.06.94zm-11 1L8.5 8.5l.94-2.06 2.06-.94-2.06-.94L8.5 2.5l-.94 2.06-2.06.94zm10 10l.94 2.06.94-2.06 2.06-.94-2.06-.94-.94-2.06-.94 2.06-2.06.94z\"/><path d=\"M17.41 7.96l-1.37-1.37c-.4-.4-.92-.59-1.43-.59-.52 0-1.04.2-1.43.59L10.3 9.45l-7.72 7.72c-.78.78-.78 2.05 0 2.83L4 21.41c.39.39.9.59 1.41.59.51 0 1.02-.2 1.41-.59l7.78-7.78 2.81-2.81c.8-.78.8-2.07 0-2.86zM5.41 20L4 18.59l7.72-7.72 1.47 1.35L5.41 20z\"/>\n",
              "  </svg>\n",
              "      </button>\n",
              "      \n",
              "  <style>\n",
              "    .colab-df-container {\n",
              "      display:flex;\n",
              "      flex-wrap:wrap;\n",
              "      gap: 12px;\n",
              "    }\n",
              "\n",
              "    .colab-df-convert {\n",
              "      background-color: #E8F0FE;\n",
              "      border: none;\n",
              "      border-radius: 50%;\n",
              "      cursor: pointer;\n",
              "      display: none;\n",
              "      fill: #1967D2;\n",
              "      height: 32px;\n",
              "      padding: 0 0 0 0;\n",
              "      width: 32px;\n",
              "    }\n",
              "\n",
              "    .colab-df-convert:hover {\n",
              "      background-color: #E2EBFA;\n",
              "      box-shadow: 0px 1px 2px rgba(60, 64, 67, 0.3), 0px 1px 3px 1px rgba(60, 64, 67, 0.15);\n",
              "      fill: #174EA6;\n",
              "    }\n",
              "\n",
              "    [theme=dark] .colab-df-convert {\n",
              "      background-color: #3B4455;\n",
              "      fill: #D2E3FC;\n",
              "    }\n",
              "\n",
              "    [theme=dark] .colab-df-convert:hover {\n",
              "      background-color: #434B5C;\n",
              "      box-shadow: 0px 1px 3px 1px rgba(0, 0, 0, 0.15);\n",
              "      filter: drop-shadow(0px 1px 2px rgba(0, 0, 0, 0.3));\n",
              "      fill: #FFFFFF;\n",
              "    }\n",
              "  </style>\n",
              "\n",
              "      <script>\n",
              "        const buttonEl =\n",
              "          document.querySelector('#df-6d475809-86fd-48d1-ac32-908aa5a01a3b button.colab-df-convert');\n",
              "        buttonEl.style.display =\n",
              "          google.colab.kernel.accessAllowed ? 'block' : 'none';\n",
              "\n",
              "        async function convertToInteractive(key) {\n",
              "          const element = document.querySelector('#df-6d475809-86fd-48d1-ac32-908aa5a01a3b');\n",
              "          const dataTable =\n",
              "            await google.colab.kernel.invokeFunction('convertToInteractive',\n",
              "                                                     [key], {});\n",
              "          if (!dataTable) return;\n",
              "\n",
              "          const docLinkHtml = 'Like what you see? Visit the ' +\n",
              "            '<a target=\"_blank\" href=https://colab.research.google.com/notebooks/data_table.ipynb>data table notebook</a>'\n",
              "            + ' to learn more about interactive tables.';\n",
              "          element.innerHTML = '';\n",
              "          dataTable['output_type'] = 'display_data';\n",
              "          await google.colab.output.renderOutput(dataTable, element);\n",
              "          const docLink = document.createElement('div');\n",
              "          docLink.innerHTML = docLinkHtml;\n",
              "          element.appendChild(docLink);\n",
              "        }\n",
              "      </script>\n",
              "    </div>\n",
              "  </div>\n",
              "  "
            ]
          },
          "metadata": {},
          "execution_count": 217
        }
      ]
    },
    {
      "cell_type": "code",
      "source": [
        "#Split data into testing and training\n",
        "\n",
        "from sklearn.model_selection import train_test_split\n",
        "from sklearn.preprocessing import OrdinalEncoder\n",
        "\n",
        "from sksurv.datasets import load_gbsg2\n",
        "from sksurv.ensemble import RandomSurvivalForest\n",
        "\n",
        "\n",
        "X_train, X_test, y_train, y_test = train_test_split(surv_features_2, surv_labels, test_size=0.25, random_state=2022)"
      ],
      "metadata": {
        "id": "5qDITMP8amLc"
      },
      "execution_count": null,
      "outputs": []
    },
    {
      "cell_type": "code",
      "source": [
        "#Conduct Cox Regression\n",
        "\n",
        "from sklearn import set_config\n",
        "from sksurv.linear_model import CoxPHSurvivalAnalysis\n",
        "\n",
        "set_config(display=\"text\")  # displays text representation of estimators\n",
        "\n",
        "estimator = CoxPHSurvivalAnalysis()\n",
        "estimator.fit(X_train, y_train)"
      ],
      "metadata": {
        "colab": {
          "base_uri": "https://localhost:8080/"
        },
        "id": "1qY_eoXeVQcz",
        "outputId": "7a7b92cc-1a05-4acc-b24b-6d5b8ca2c598"
      },
      "execution_count": null,
      "outputs": [
        {
          "output_type": "execute_result",
          "data": {
            "text/plain": [
              "CoxPHSurvivalAnalysis()"
            ]
          },
          "metadata": {},
          "execution_count": 219
        }
      ]
    },
    {
      "cell_type": "code",
      "source": [
        "pd.Series(estimator.coef_, index=X_train.columns)"
      ],
      "metadata": {
        "colab": {
          "base_uri": "https://localhost:8080/"
        },
        "id": "HGpl4KcWYM_P",
        "outputId": "03918c28-48be-4f7c-d7be-62266386bce2"
      },
      "execution_count": null,
      "outputs": [
        {
          "output_type": "execute_result",
          "data": {
            "text/plain": [
              "usage_length_days    0.046168\n",
              "avg_complains        0.072703\n",
              "ride_miles           0.000505\n",
              "manufactor_B         0.463628\n",
              "manufactor_C         0.665193\n",
              "dtype: float64"
            ]
          },
          "metadata": {},
          "execution_count": 220
        }
      ]
    },
    {
      "cell_type": "code",
      "source": [
        "#Measuring the Performance of Cox Regression Survival Model\n",
        "estimator.score(X_test, y_test)"
      ],
      "metadata": {
        "colab": {
          "base_uri": "https://localhost:8080/"
        },
        "id": "rjwXAeSSj740",
        "outputId": "f4ed542d-8ed5-4a37-842f-6b2b354002df"
      },
      "execution_count": null,
      "outputs": [
        {
          "output_type": "execute_result",
          "data": {
            "text/plain": [
              "0.7706359945872802"
            ]
          },
          "metadata": {},
          "execution_count": 221
        }
      ]
    },
    {
      "cell_type": "code",
      "source": [
        "#Build and fit the RandomSurvivalForest model\n",
        "rsf = RandomSurvivalForest(n_estimators=1000,\n",
        "                           min_samples_split=6,\n",
        "                           min_samples_leaf=3,\n",
        "                           n_jobs=-1,\n",
        "                           random_state=2022)\n",
        "rsf.fit(X_train, y_train)\n"
      ],
      "metadata": {
        "colab": {
          "base_uri": "https://localhost:8080/"
        },
        "id": "Y-7nzyCrdK2f",
        "outputId": "62350571-b701-4ea8-d740-654aa17c4582"
      },
      "execution_count": null,
      "outputs": [
        {
          "output_type": "execute_result",
          "data": {
            "text/plain": [
              "RandomSurvivalForest(n_estimators=1000, n_jobs=-1, random_state=2022)"
            ]
          },
          "metadata": {},
          "execution_count": 222
        }
      ]
    },
    {
      "cell_type": "code",
      "source": [
        "#C-index\n",
        "rsf.score(X_test, y_test)"
      ],
      "metadata": {
        "colab": {
          "base_uri": "https://localhost:8080/"
        },
        "id": "RBBCX8L1dfi0",
        "outputId": "7ccd7f4a-760c-497a-9132-64db27e75b19"
      },
      "execution_count": null,
      "outputs": [
        {
          "output_type": "execute_result",
          "data": {
            "text/plain": [
              "0.7631935047361299"
            ]
          },
          "metadata": {},
          "execution_count": 223
        }
      ]
    },
    {
      "cell_type": "markdown",
      "source": [
        "**Compare c-index score between 2 models**\n",
        "</br>- C-index score for Random Survival Forest is 0.763 > 0.7, which means the model is good.\n",
        "</br>- C-index score for Cox Regression is 0.771 > 0.7, which means the model is good.\n",
        "</br>- This also means the Cox Regression is *slightly* better than Random Survival Forest.\n",
        "\n"
      ],
      "metadata": {
        "id": "Sp4jKPVEcKUc"
      }
    },
    {
      "cell_type": "code",
      "source": [
        "##Feature Importance of Random Survival Forest\n",
        "\n",
        "from sklearn.inspection import permutation_importance\n",
        "\n",
        "result = permutation_importance(\n",
        "    rsf, X_test, y_test, n_repeats=15, random_state=2022\n",
        ")\n",
        "\n",
        "pd.DataFrame(\n",
        "    {k: result[k] for k in (\"importances_mean\", \"importances_std\",)},\n",
        "    index=X_test.columns\n",
        ").sort_values(by=\"importances_mean\", ascending=False)"
      ],
      "metadata": {
        "colab": {
          "base_uri": "https://localhost:8080/",
          "height": 206
        },
        "id": "ph_VACUre5ul",
        "outputId": "65e97c78-83fa-44c1-d1bd-0bcabedd4dfa"
      },
      "execution_count": null,
      "outputs": [
        {
          "output_type": "execute_result",
          "data": {
            "text/plain": [
              "                   importances_mean  importances_std\n",
              "avg_complains              0.177853         0.045096\n",
              "usage_length_days          0.027560         0.015665\n",
              "ride_miles                 0.017005         0.012313\n",
              "manufactor_C               0.006180         0.007181\n",
              "manufactor_B              -0.002300         0.005169"
            ],
            "text/html": [
              "\n",
              "  <div id=\"df-264ed753-399e-4848-97a9-8bd5a48be059\">\n",
              "    <div class=\"colab-df-container\">\n",
              "      <div>\n",
              "<style scoped>\n",
              "    .dataframe tbody tr th:only-of-type {\n",
              "        vertical-align: middle;\n",
              "    }\n",
              "\n",
              "    .dataframe tbody tr th {\n",
              "        vertical-align: top;\n",
              "    }\n",
              "\n",
              "    .dataframe thead th {\n",
              "        text-align: right;\n",
              "    }\n",
              "</style>\n",
              "<table border=\"1\" class=\"dataframe\">\n",
              "  <thead>\n",
              "    <tr style=\"text-align: right;\">\n",
              "      <th></th>\n",
              "      <th>importances_mean</th>\n",
              "      <th>importances_std</th>\n",
              "    </tr>\n",
              "  </thead>\n",
              "  <tbody>\n",
              "    <tr>\n",
              "      <th>avg_complains</th>\n",
              "      <td>0.177853</td>\n",
              "      <td>0.045096</td>\n",
              "    </tr>\n",
              "    <tr>\n",
              "      <th>usage_length_days</th>\n",
              "      <td>0.027560</td>\n",
              "      <td>0.015665</td>\n",
              "    </tr>\n",
              "    <tr>\n",
              "      <th>ride_miles</th>\n",
              "      <td>0.017005</td>\n",
              "      <td>0.012313</td>\n",
              "    </tr>\n",
              "    <tr>\n",
              "      <th>manufactor_C</th>\n",
              "      <td>0.006180</td>\n",
              "      <td>0.007181</td>\n",
              "    </tr>\n",
              "    <tr>\n",
              "      <th>manufactor_B</th>\n",
              "      <td>-0.002300</td>\n",
              "      <td>0.005169</td>\n",
              "    </tr>\n",
              "  </tbody>\n",
              "</table>\n",
              "</div>\n",
              "      <button class=\"colab-df-convert\" onclick=\"convertToInteractive('df-264ed753-399e-4848-97a9-8bd5a48be059')\"\n",
              "              title=\"Convert this dataframe to an interactive table.\"\n",
              "              style=\"display:none;\">\n",
              "        \n",
              "  <svg xmlns=\"http://www.w3.org/2000/svg\" height=\"24px\"viewBox=\"0 0 24 24\"\n",
              "       width=\"24px\">\n",
              "    <path d=\"M0 0h24v24H0V0z\" fill=\"none\"/>\n",
              "    <path d=\"M18.56 5.44l.94 2.06.94-2.06 2.06-.94-2.06-.94-.94-2.06-.94 2.06-2.06.94zm-11 1L8.5 8.5l.94-2.06 2.06-.94-2.06-.94L8.5 2.5l-.94 2.06-2.06.94zm10 10l.94 2.06.94-2.06 2.06-.94-2.06-.94-.94-2.06-.94 2.06-2.06.94z\"/><path d=\"M17.41 7.96l-1.37-1.37c-.4-.4-.92-.59-1.43-.59-.52 0-1.04.2-1.43.59L10.3 9.45l-7.72 7.72c-.78.78-.78 2.05 0 2.83L4 21.41c.39.39.9.59 1.41.59.51 0 1.02-.2 1.41-.59l7.78-7.78 2.81-2.81c.8-.78.8-2.07 0-2.86zM5.41 20L4 18.59l7.72-7.72 1.47 1.35L5.41 20z\"/>\n",
              "  </svg>\n",
              "      </button>\n",
              "      \n",
              "  <style>\n",
              "    .colab-df-container {\n",
              "      display:flex;\n",
              "      flex-wrap:wrap;\n",
              "      gap: 12px;\n",
              "    }\n",
              "\n",
              "    .colab-df-convert {\n",
              "      background-color: #E8F0FE;\n",
              "      border: none;\n",
              "      border-radius: 50%;\n",
              "      cursor: pointer;\n",
              "      display: none;\n",
              "      fill: #1967D2;\n",
              "      height: 32px;\n",
              "      padding: 0 0 0 0;\n",
              "      width: 32px;\n",
              "    }\n",
              "\n",
              "    .colab-df-convert:hover {\n",
              "      background-color: #E2EBFA;\n",
              "      box-shadow: 0px 1px 2px rgba(60, 64, 67, 0.3), 0px 1px 3px 1px rgba(60, 64, 67, 0.15);\n",
              "      fill: #174EA6;\n",
              "    }\n",
              "\n",
              "    [theme=dark] .colab-df-convert {\n",
              "      background-color: #3B4455;\n",
              "      fill: #D2E3FC;\n",
              "    }\n",
              "\n",
              "    [theme=dark] .colab-df-convert:hover {\n",
              "      background-color: #434B5C;\n",
              "      box-shadow: 0px 1px 3px 1px rgba(0, 0, 0, 0.15);\n",
              "      filter: drop-shadow(0px 1px 2px rgba(0, 0, 0, 0.3));\n",
              "      fill: #FFFFFF;\n",
              "    }\n",
              "  </style>\n",
              "\n",
              "      <script>\n",
              "        const buttonEl =\n",
              "          document.querySelector('#df-264ed753-399e-4848-97a9-8bd5a48be059 button.colab-df-convert');\n",
              "        buttonEl.style.display =\n",
              "          google.colab.kernel.accessAllowed ? 'block' : 'none';\n",
              "\n",
              "        async function convertToInteractive(key) {\n",
              "          const element = document.querySelector('#df-264ed753-399e-4848-97a9-8bd5a48be059');\n",
              "          const dataTable =\n",
              "            await google.colab.kernel.invokeFunction('convertToInteractive',\n",
              "                                                     [key], {});\n",
              "          if (!dataTable) return;\n",
              "\n",
              "          const docLinkHtml = 'Like what you see? Visit the ' +\n",
              "            '<a target=\"_blank\" href=https://colab.research.google.com/notebooks/data_table.ipynb>data table notebook</a>'\n",
              "            + ' to learn more about interactive tables.';\n",
              "          element.innerHTML = '';\n",
              "          dataTable['output_type'] = 'display_data';\n",
              "          await google.colab.output.renderOutput(dataTable, element);\n",
              "          const docLink = document.createElement('div');\n",
              "          docLink.innerHTML = docLinkHtml;\n",
              "          element.appendChild(docLink);\n",
              "        }\n",
              "      </script>\n",
              "    </div>\n",
              "  </div>\n",
              "  "
            ]
          },
          "metadata": {},
          "execution_count": 224
        }
      ]
    },
    {
      "cell_type": "markdown",
      "source": [
        "The result shows that relatively speaking, the number of average complaints is the feature with more importance than others when it comes to predicting survival rates (highest importances_mean and rather low standard deviation). On the otherhand, other features (with low importances_mean and high standard deviation) have low effect on the survival rates.\n"
      ],
      "metadata": {
        "id": "pIHox50ogc9q"
      }
    },
    {
      "cell_type": "markdown",
      "source": [
        "\n",
        "Predict and plot the survival rate with one of the models (random forest or Cox PH regression) for the ten scooters with the trained model from task"
      ],
      "metadata": {
        "id": "KLhJdYpTDpSY"
      }
    },
    {
      "cell_type": "code",
      "source": [
        "#Import dataset ten_scooter\n",
        "\n",
        "ten_scooter_data = pd.read_csv(\n",
        "    'ten_scooters.csv')\n",
        "ten_scooter_data.head()"
      ],
      "metadata": {
        "colab": {
          "base_uri": "https://localhost:8080/",
          "height": 270
        },
        "id": "UyWIuGJpYjUS",
        "outputId": "25f2af40-bdfa-419b-a567-c3d8db6ea5bd"
      },
      "execution_count": null,
      "outputs": [
        {
          "output_type": "execute_result",
          "data": {
            "text/plain": [
              "   id  usage_length_days  avg_complains  ride_miles  manufactor_A  \\\n",
              "0   1          56.447815            4.6        88.0             0   \n",
              "1   2          55.536086            1.4        54.0             1   \n",
              "2   3          53.058263            5.4       120.9             0   \n",
              "3   4          45.690505            1.2        72.0             1   \n",
              "4   5          64.647903           11.4       114.0             0   \n",
              "\n",
              "   manufactor_B  manufactor_C  \n",
              "0             0             1  \n",
              "1             0             0  \n",
              "2             1             0  \n",
              "3             0             0  \n",
              "4             0             1  "
            ],
            "text/html": [
              "\n",
              "  <div id=\"df-75f4090b-9176-4de1-bdaa-ee96e7fee727\">\n",
              "    <div class=\"colab-df-container\">\n",
              "      <div>\n",
              "<style scoped>\n",
              "    .dataframe tbody tr th:only-of-type {\n",
              "        vertical-align: middle;\n",
              "    }\n",
              "\n",
              "    .dataframe tbody tr th {\n",
              "        vertical-align: top;\n",
              "    }\n",
              "\n",
              "    .dataframe thead th {\n",
              "        text-align: right;\n",
              "    }\n",
              "</style>\n",
              "<table border=\"1\" class=\"dataframe\">\n",
              "  <thead>\n",
              "    <tr style=\"text-align: right;\">\n",
              "      <th></th>\n",
              "      <th>id</th>\n",
              "      <th>usage_length_days</th>\n",
              "      <th>avg_complains</th>\n",
              "      <th>ride_miles</th>\n",
              "      <th>manufactor_A</th>\n",
              "      <th>manufactor_B</th>\n",
              "      <th>manufactor_C</th>\n",
              "    </tr>\n",
              "  </thead>\n",
              "  <tbody>\n",
              "    <tr>\n",
              "      <th>0</th>\n",
              "      <td>1</td>\n",
              "      <td>56.447815</td>\n",
              "      <td>4.6</td>\n",
              "      <td>88.0</td>\n",
              "      <td>0</td>\n",
              "      <td>0</td>\n",
              "      <td>1</td>\n",
              "    </tr>\n",
              "    <tr>\n",
              "      <th>1</th>\n",
              "      <td>2</td>\n",
              "      <td>55.536086</td>\n",
              "      <td>1.4</td>\n",
              "      <td>54.0</td>\n",
              "      <td>1</td>\n",
              "      <td>0</td>\n",
              "      <td>0</td>\n",
              "    </tr>\n",
              "    <tr>\n",
              "      <th>2</th>\n",
              "      <td>3</td>\n",
              "      <td>53.058263</td>\n",
              "      <td>5.4</td>\n",
              "      <td>120.9</td>\n",
              "      <td>0</td>\n",
              "      <td>1</td>\n",
              "      <td>0</td>\n",
              "    </tr>\n",
              "    <tr>\n",
              "      <th>3</th>\n",
              "      <td>4</td>\n",
              "      <td>45.690505</td>\n",
              "      <td>1.2</td>\n",
              "      <td>72.0</td>\n",
              "      <td>1</td>\n",
              "      <td>0</td>\n",
              "      <td>0</td>\n",
              "    </tr>\n",
              "    <tr>\n",
              "      <th>4</th>\n",
              "      <td>5</td>\n",
              "      <td>64.647903</td>\n",
              "      <td>11.4</td>\n",
              "      <td>114.0</td>\n",
              "      <td>0</td>\n",
              "      <td>0</td>\n",
              "      <td>1</td>\n",
              "    </tr>\n",
              "  </tbody>\n",
              "</table>\n",
              "</div>\n",
              "      <button class=\"colab-df-convert\" onclick=\"convertToInteractive('df-75f4090b-9176-4de1-bdaa-ee96e7fee727')\"\n",
              "              title=\"Convert this dataframe to an interactive table.\"\n",
              "              style=\"display:none;\">\n",
              "        \n",
              "  <svg xmlns=\"http://www.w3.org/2000/svg\" height=\"24px\"viewBox=\"0 0 24 24\"\n",
              "       width=\"24px\">\n",
              "    <path d=\"M0 0h24v24H0V0z\" fill=\"none\"/>\n",
              "    <path d=\"M18.56 5.44l.94 2.06.94-2.06 2.06-.94-2.06-.94-.94-2.06-.94 2.06-2.06.94zm-11 1L8.5 8.5l.94-2.06 2.06-.94-2.06-.94L8.5 2.5l-.94 2.06-2.06.94zm10 10l.94 2.06.94-2.06 2.06-.94-2.06-.94-.94-2.06-.94 2.06-2.06.94z\"/><path d=\"M17.41 7.96l-1.37-1.37c-.4-.4-.92-.59-1.43-.59-.52 0-1.04.2-1.43.59L10.3 9.45l-7.72 7.72c-.78.78-.78 2.05 0 2.83L4 21.41c.39.39.9.59 1.41.59.51 0 1.02-.2 1.41-.59l7.78-7.78 2.81-2.81c.8-.78.8-2.07 0-2.86zM5.41 20L4 18.59l7.72-7.72 1.47 1.35L5.41 20z\"/>\n",
              "  </svg>\n",
              "      </button>\n",
              "      \n",
              "  <style>\n",
              "    .colab-df-container {\n",
              "      display:flex;\n",
              "      flex-wrap:wrap;\n",
              "      gap: 12px;\n",
              "    }\n",
              "\n",
              "    .colab-df-convert {\n",
              "      background-color: #E8F0FE;\n",
              "      border: none;\n",
              "      border-radius: 50%;\n",
              "      cursor: pointer;\n",
              "      display: none;\n",
              "      fill: #1967D2;\n",
              "      height: 32px;\n",
              "      padding: 0 0 0 0;\n",
              "      width: 32px;\n",
              "    }\n",
              "\n",
              "    .colab-df-convert:hover {\n",
              "      background-color: #E2EBFA;\n",
              "      box-shadow: 0px 1px 2px rgba(60, 64, 67, 0.3), 0px 1px 3px 1px rgba(60, 64, 67, 0.15);\n",
              "      fill: #174EA6;\n",
              "    }\n",
              "\n",
              "    [theme=dark] .colab-df-convert {\n",
              "      background-color: #3B4455;\n",
              "      fill: #D2E3FC;\n",
              "    }\n",
              "\n",
              "    [theme=dark] .colab-df-convert:hover {\n",
              "      background-color: #434B5C;\n",
              "      box-shadow: 0px 1px 3px 1px rgba(0, 0, 0, 0.15);\n",
              "      filter: drop-shadow(0px 1px 2px rgba(0, 0, 0, 0.3));\n",
              "      fill: #FFFFFF;\n",
              "    }\n",
              "  </style>\n",
              "\n",
              "      <script>\n",
              "        const buttonEl =\n",
              "          document.querySelector('#df-75f4090b-9176-4de1-bdaa-ee96e7fee727 button.colab-df-convert');\n",
              "        buttonEl.style.display =\n",
              "          google.colab.kernel.accessAllowed ? 'block' : 'none';\n",
              "\n",
              "        async function convertToInteractive(key) {\n",
              "          const element = document.querySelector('#df-75f4090b-9176-4de1-bdaa-ee96e7fee727');\n",
              "          const dataTable =\n",
              "            await google.colab.kernel.invokeFunction('convertToInteractive',\n",
              "                                                     [key], {});\n",
              "          if (!dataTable) return;\n",
              "\n",
              "          const docLinkHtml = 'Like what you see? Visit the ' +\n",
              "            '<a target=\"_blank\" href=https://colab.research.google.com/notebooks/data_table.ipynb>data table notebook</a>'\n",
              "            + ' to learn more about interactive tables.';\n",
              "          element.innerHTML = '';\n",
              "          dataTable['output_type'] = 'display_data';\n",
              "          await google.colab.output.renderOutput(dataTable, element);\n",
              "          const docLink = document.createElement('div');\n",
              "          docLink.innerHTML = docLinkHtml;\n",
              "          element.appendChild(docLink);\n",
              "        }\n",
              "      </script>\n",
              "    </div>\n",
              "  </div>\n",
              "  "
            ]
          },
          "metadata": {},
          "execution_count": 225
        }
      ]
    },
    {
      "cell_type": "code",
      "source": [
        "#Remove 'id' column\n",
        "ten_scooter_data.drop(['id','manufactor_A'], axis = 1, inplace = True)\n",
        "ten_scooter_data.head()"
      ],
      "metadata": {
        "colab": {
          "base_uri": "https://localhost:8080/",
          "height": 206
        },
        "id": "ffcRW8beY1jQ",
        "outputId": "d86f9447-c831-43b4-8514-e09aac77e9a4"
      },
      "execution_count": null,
      "outputs": [
        {
          "output_type": "execute_result",
          "data": {
            "text/plain": [
              "   usage_length_days  avg_complains  ride_miles  manufactor_B  manufactor_C\n",
              "0          56.447815            4.6        88.0             0             1\n",
              "1          55.536086            1.4        54.0             0             0\n",
              "2          53.058263            5.4       120.9             1             0\n",
              "3          45.690505            1.2        72.0             0             0\n",
              "4          64.647903           11.4       114.0             0             1"
            ],
            "text/html": [
              "\n",
              "  <div id=\"df-a5ef45f0-24ef-4779-ac1c-1cc3712830e9\">\n",
              "    <div class=\"colab-df-container\">\n",
              "      <div>\n",
              "<style scoped>\n",
              "    .dataframe tbody tr th:only-of-type {\n",
              "        vertical-align: middle;\n",
              "    }\n",
              "\n",
              "    .dataframe tbody tr th {\n",
              "        vertical-align: top;\n",
              "    }\n",
              "\n",
              "    .dataframe thead th {\n",
              "        text-align: right;\n",
              "    }\n",
              "</style>\n",
              "<table border=\"1\" class=\"dataframe\">\n",
              "  <thead>\n",
              "    <tr style=\"text-align: right;\">\n",
              "      <th></th>\n",
              "      <th>usage_length_days</th>\n",
              "      <th>avg_complains</th>\n",
              "      <th>ride_miles</th>\n",
              "      <th>manufactor_B</th>\n",
              "      <th>manufactor_C</th>\n",
              "    </tr>\n",
              "  </thead>\n",
              "  <tbody>\n",
              "    <tr>\n",
              "      <th>0</th>\n",
              "      <td>56.447815</td>\n",
              "      <td>4.6</td>\n",
              "      <td>88.0</td>\n",
              "      <td>0</td>\n",
              "      <td>1</td>\n",
              "    </tr>\n",
              "    <tr>\n",
              "      <th>1</th>\n",
              "      <td>55.536086</td>\n",
              "      <td>1.4</td>\n",
              "      <td>54.0</td>\n",
              "      <td>0</td>\n",
              "      <td>0</td>\n",
              "    </tr>\n",
              "    <tr>\n",
              "      <th>2</th>\n",
              "      <td>53.058263</td>\n",
              "      <td>5.4</td>\n",
              "      <td>120.9</td>\n",
              "      <td>1</td>\n",
              "      <td>0</td>\n",
              "    </tr>\n",
              "    <tr>\n",
              "      <th>3</th>\n",
              "      <td>45.690505</td>\n",
              "      <td>1.2</td>\n",
              "      <td>72.0</td>\n",
              "      <td>0</td>\n",
              "      <td>0</td>\n",
              "    </tr>\n",
              "    <tr>\n",
              "      <th>4</th>\n",
              "      <td>64.647903</td>\n",
              "      <td>11.4</td>\n",
              "      <td>114.0</td>\n",
              "      <td>0</td>\n",
              "      <td>1</td>\n",
              "    </tr>\n",
              "  </tbody>\n",
              "</table>\n",
              "</div>\n",
              "      <button class=\"colab-df-convert\" onclick=\"convertToInteractive('df-a5ef45f0-24ef-4779-ac1c-1cc3712830e9')\"\n",
              "              title=\"Convert this dataframe to an interactive table.\"\n",
              "              style=\"display:none;\">\n",
              "        \n",
              "  <svg xmlns=\"http://www.w3.org/2000/svg\" height=\"24px\"viewBox=\"0 0 24 24\"\n",
              "       width=\"24px\">\n",
              "    <path d=\"M0 0h24v24H0V0z\" fill=\"none\"/>\n",
              "    <path d=\"M18.56 5.44l.94 2.06.94-2.06 2.06-.94-2.06-.94-.94-2.06-.94 2.06-2.06.94zm-11 1L8.5 8.5l.94-2.06 2.06-.94-2.06-.94L8.5 2.5l-.94 2.06-2.06.94zm10 10l.94 2.06.94-2.06 2.06-.94-2.06-.94-.94-2.06-.94 2.06-2.06.94z\"/><path d=\"M17.41 7.96l-1.37-1.37c-.4-.4-.92-.59-1.43-.59-.52 0-1.04.2-1.43.59L10.3 9.45l-7.72 7.72c-.78.78-.78 2.05 0 2.83L4 21.41c.39.39.9.59 1.41.59.51 0 1.02-.2 1.41-.59l7.78-7.78 2.81-2.81c.8-.78.8-2.07 0-2.86zM5.41 20L4 18.59l7.72-7.72 1.47 1.35L5.41 20z\"/>\n",
              "  </svg>\n",
              "      </button>\n",
              "      \n",
              "  <style>\n",
              "    .colab-df-container {\n",
              "      display:flex;\n",
              "      flex-wrap:wrap;\n",
              "      gap: 12px;\n",
              "    }\n",
              "\n",
              "    .colab-df-convert {\n",
              "      background-color: #E8F0FE;\n",
              "      border: none;\n",
              "      border-radius: 50%;\n",
              "      cursor: pointer;\n",
              "      display: none;\n",
              "      fill: #1967D2;\n",
              "      height: 32px;\n",
              "      padding: 0 0 0 0;\n",
              "      width: 32px;\n",
              "    }\n",
              "\n",
              "    .colab-df-convert:hover {\n",
              "      background-color: #E2EBFA;\n",
              "      box-shadow: 0px 1px 2px rgba(60, 64, 67, 0.3), 0px 1px 3px 1px rgba(60, 64, 67, 0.15);\n",
              "      fill: #174EA6;\n",
              "    }\n",
              "\n",
              "    [theme=dark] .colab-df-convert {\n",
              "      background-color: #3B4455;\n",
              "      fill: #D2E3FC;\n",
              "    }\n",
              "\n",
              "    [theme=dark] .colab-df-convert:hover {\n",
              "      background-color: #434B5C;\n",
              "      box-shadow: 0px 1px 3px 1px rgba(0, 0, 0, 0.15);\n",
              "      filter: drop-shadow(0px 1px 2px rgba(0, 0, 0, 0.3));\n",
              "      fill: #FFFFFF;\n",
              "    }\n",
              "  </style>\n",
              "\n",
              "      <script>\n",
              "        const buttonEl =\n",
              "          document.querySelector('#df-a5ef45f0-24ef-4779-ac1c-1cc3712830e9 button.colab-df-convert');\n",
              "        buttonEl.style.display =\n",
              "          google.colab.kernel.accessAllowed ? 'block' : 'none';\n",
              "\n",
              "        async function convertToInteractive(key) {\n",
              "          const element = document.querySelector('#df-a5ef45f0-24ef-4779-ac1c-1cc3712830e9');\n",
              "          const dataTable =\n",
              "            await google.colab.kernel.invokeFunction('convertToInteractive',\n",
              "                                                     [key], {});\n",
              "          if (!dataTable) return;\n",
              "\n",
              "          const docLinkHtml = 'Like what you see? Visit the ' +\n",
              "            '<a target=\"_blank\" href=https://colab.research.google.com/notebooks/data_table.ipynb>data table notebook</a>'\n",
              "            + ' to learn more about interactive tables.';\n",
              "          element.innerHTML = '';\n",
              "          dataTable['output_type'] = 'display_data';\n",
              "          await google.colab.output.renderOutput(dataTable, element);\n",
              "          const docLink = document.createElement('div');\n",
              "          docLink.innerHTML = docLinkHtml;\n",
              "          element.appendChild(docLink);\n",
              "        }\n",
              "      </script>\n",
              "    </div>\n",
              "  </div>\n",
              "  "
            ]
          },
          "metadata": {},
          "execution_count": 226
        }
      ]
    },
    {
      "cell_type": "code",
      "source": [
        "#Predict the survival rate of ten_scooters using Random Survival Forest\n",
        "\n",
        "surv = rsf.predict_survival_function(ten_scooter_data, return_array=True)\n",
        "\n",
        "for i, s in enumerate(surv):\n",
        "    plt.step(rsf.event_times_, s, where=\"post\", label=str(i))\n",
        "plt.ylabel(\"Survival probability\")\n",
        "plt.xlabel(\"Time\")\n",
        "plt.legend()\n",
        "plt.grid(True)"
      ],
      "metadata": {
        "colab": {
          "base_uri": "https://localhost:8080/",
          "height": 279
        },
        "id": "S-QmrsaBI6Pz",
        "outputId": "59327ca6-1767-4e98-fbab-019cac3b82ec"
      },
      "execution_count": null,
      "outputs": [
        {
          "output_type": "display_data",
          "data": {
            "text/plain": [
              "<Figure size 432x288 with 1 Axes>"
            ],
            "image/png": "[encoded data removed]"
          },
          "metadata": {
            "needs_background": "light"
          }
        }
      ]
    }
  ],
  "metadata": {
    "colab": {
      "provenance": [],
      "collapsed_sections": [
        "5CzhEy0DByu6",
        "6w_ZyJ5kXWkT",
        "a4zHkTAKY9SC",
        "EE95AmhBbKuT"
      ]
    },
    "kernelspec": {
      "display_name": "Python 3",
      "language": "python",
      "name": "python3"
    },
    "language_info": {
      "codemirror_mode": {
        "name": "ipython",
        "version": 3
      },
      "file_extension": ".py",
      "mimetype": "text/x-python",
      "name": "python",
      "nbconvert_exporter": "python",
      "pygments_lexer": "ipython3",
      "version": "3.8.5"
    }
  },
  "nbformat": 4,
  "nbformat_minor": 0
}