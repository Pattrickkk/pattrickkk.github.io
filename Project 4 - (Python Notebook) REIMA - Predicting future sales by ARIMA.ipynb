{
 "cells": [
  {
   "cell_type": "code",
   "execution_count": null,
   "id": "22c1c448",
   "metadata": {},
   "outputs": [],
   "source": [
    "import pandas as pd\n",
    "import numpy as np\n",
    "from matplotlib import pyplot\n",
    "\n",
    "from sklearn.metrics import mean_squared_error\n",
    "from plotly.subplots import make_subplots\n",
    "\n",
    "from sklearn.metrics import mean_absolute_error\n",
    "from sklearn.model_selection import train_test_split\n",
    "from statsmodels.tsa.stattools import adfuller\n",
    "from statsmodels.tsa.seasonal import seasonal_decompose\n",
    "from statsmodels.tsa.arima.model import ARIMA"
   ]
  },
  {
   "cell_type": "code",
   "execution_count": null,
   "id": "ba9f5609",
   "metadata": {},
   "outputs": [],
   "source": [
    "# Read in the csv file using pandas\n",
    "data = pd.read_csv('sales_data.csv',\n",
    "                   parse_dates ={\"date\" : [\"Year\",\"Month\"]})"
   ]
  },
  {
   "cell_type": "code",
   "execution_count": null,
   "id": "764dc66f",
   "metadata": {},
   "outputs": [],
   "source": [
    "FID2C0_data = data[(data['Channel']=='ECOM')\n",
    "&(data['Country']=='Slovakia')\n",
    "&(data['Product Group Desc.'].str.contains(\"4\"))]"
   ]
  },
  {
   "cell_type": "code",
   "execution_count": null,
   "id": "81ed9911",
   "metadata": {},
   "outputs": [],
   "source": [
    "#Drop unimportant columns\n",
    "FID2C0 = FID2C0_data.iloc[:,[0,5]]\n",
    "FID2C0.rename(columns={'Sum of Sold QTY':'value'}, inplace=True)"
   ]
  },
  {
   "cell_type": "code",
   "execution_count": null,
   "id": "4901b855",
   "metadata": {},
   "outputs": [],
   "source": [
    "# Set the 'date' column as the index of the dataframe\n",
    "FID2C0_sales = FID2C0.copy()\n",
    "FID2C0_sales.set_index('date', inplace=True)"
   ]
  },
  {
   "cell_type": "code",
   "execution_count": null,
   "id": "ab550b4d",
   "metadata": {},
   "outputs": [],
   "source": [
    "#Resample to quarterly frequency\n",
    "FID2C0_mon = FID2C0_sales.resample('Q').sum()\n",
    "FID2C0_mon.shape"
   ]
  },
  {
   "cell_type": "code",
   "execution_count": null,
   "id": "78ca7c3a",
   "metadata": {},
   "outputs": [],
   "source": [
    "# check for trend/seasonality/residual \n",
    "result = seasonal_decompose(FID2C0_mon.value, freq=4)\n",
    "result.plot()"
   ]
  },
  {
   "cell_type": "code",
   "execution_count": null,
   "id": "aba331ff",
   "metadata": {},
   "outputs": [],
   "source": [
    "# evaluate an ARIMA model for a given order (p,d,q)\n",
    "def evaluate_arima_model(X, arima_order):\n",
    "\t# prepare training dataset\n",
    "\ttrain_size = int(len(X) * 0.7)\n",
    "\ttrain, test = X[0:train_size], X[train_size:]\n",
    "\thistory = [x for x in train]\n",
    "\t# make predictions\n",
    "\tpredictions = list()\n",
    "\tfor t in range(len(test)):\n",
    "\t\tmodel = ARIMA(history, order=arima_order)\n",
    "\t\tmodel_fit = model.fit()\n",
    "\t\tyhat = model_fit.forecast()[0]\n",
    "\t\tpredictions.append(yhat)\n",
    "\t\thistory.append(test[t])\n",
    "\t# calculate out of sample error\n",
    "\terror = mean_squared_error(test, predictions)\n",
    "\treturn error"
   ]
  },
  {
   "cell_type": "code",
   "execution_count": null,
   "id": "761c3df7",
   "metadata": {},
   "outputs": [],
   "source": [
    "import warnings\n",
    "warnings.filterwarnings(\"ignore\")"
   ]
  },
  {
   "cell_type": "code",
   "execution_count": null,
   "id": "eb83567d",
   "metadata": {},
   "outputs": [],
   "source": [
    "# evaluate combinations of p, d and q values for an ARIMA model\n",
    "def evaluate_models(dataset, p_values, d_values, q_values):\n",
    "\tdataset = dataset.astype('float32')\n",
    "\tbest_score, best_cfg = float(\"inf\"), None\n",
    "\tfor p in p_values:\n",
    "\t\tfor d in d_values:\n",
    "\t\t\tfor q in q_values:\n",
    "\t\t\t\torder = (p,d,q)\n",
    "\t\t\t\ttry:\n",
    "\t\t\t\t\tmse = evaluate_arima_model(dataset, order)\n",
    "\t\t\t\t\tif mse < best_score:\n",
    "\t\t\t\t\t\tbest_score, best_cfg = mse, order\n",
    "\t\t\t\t\tprint('ARIMA%s MSE=%.3f' % (order,mse))\n",
    "\t\t\t\texcept:\n",
    "\t\t\t\t\tcontinue\n",
    "\tprint('Best ARIMA%s MSE=%.3f' % (best_cfg, best_score))"
   ]
  },
  {
   "cell_type": "code",
   "execution_count": null,
   "id": "1489e0cf",
   "metadata": {},
   "outputs": [],
   "source": [
    "# evaluate parameters\n",
    "p_values = [0, 1, 2, 4, 6,8,10]\n",
    "d_values = range(0, 3)\n",
    "q_values = range(0, 3)\n",
    "warnings.filterwarnings(\"ignore\")\n",
    "evaluate_models(FID2C0_mon.values, p_values, d_values, q_values)"
   ]
  },
  {
   "cell_type": "code",
   "execution_count": null,
   "id": "020ad83e",
   "metadata": {},
   "outputs": [],
   "source": [
    "import numpy\n",
    "# fit model\n",
    "model = ARIMA(FID2C0_mon.value, order=(0,0,2))\n",
    "model_fit = model.fit()"
   ]
  },
  {
   "cell_type": "code",
   "execution_count": null,
   "id": "984cacbd",
   "metadata": {},
   "outputs": [],
   "source": [
    "# multi-step out-of-sample forecast\n",
    "forecast = model_fit.forecast(steps=8)\n",
    "print(forecast.round(0))"
   ]
  },
  {
   "cell_type": "code",
   "execution_count": null,
   "id": "26fe68e7",
   "metadata": {},
   "outputs": [],
   "source": [
    "#export to XLXs\n",
    "import xlwt\n",
    "from tempfile import TemporaryFile\n",
    "book = xlwt.Workbook()\n",
    "sheet1 = book.add_sheet('sheet1')\n",
    "\n",
    "for i,e in enumerate(forecast.round(2)):\n",
    "    sheet1.write(i,1,e)\n",
    "\n",
    "name = \"random.xls\"\n",
    "book.save(name)\n",
    "book.save(TemporaryFile())"
   ]
  }
 ],
 "metadata": {
  "kernelspec": {
   "display_name": "Python 3",
   "language": "python",
   "name": "python3"
  },
  "language_info": {
   "codemirror_mode": {
    "name": "ipython",
    "version": 3
   },
   "file_extension": ".py",
   "mimetype": "text/x-python",
   "name": "python",
   "nbconvert_exporter": "python",
   "pygments_lexer": "ipython3",
   "version": "3.9.5"
  }
 },
 "nbformat": 4,
 "nbformat_minor": 5
}
